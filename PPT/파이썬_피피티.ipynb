{
  "nbformat": 4,
  "nbformat_minor": 0,
  "metadata": {
    "colab": {
      "name": "파이썬 피피티",
      "provenance": []
    },
    "kernelspec": {
      "name": "python3",
      "display_name": "Python 3"
    },
    "language_info": {
      "name": "python"
    }
  },
  "cells": [
    {
      "cell_type": "code",
      "execution_count": 1,
      "metadata": {
        "colab": {
          "base_uri": "https://localhost:8080/"
        },
        "id": "wXQcegTZmWKc",
        "outputId": "4564a6e1-a937-4dd5-f312-311c9c030bf9"
      },
      "outputs": [
        {
          "output_type": "stream",
          "name": "stdout",
          "text": [
            "Looking in indexes: https://pypi.org/simple, https://us-python.pkg.dev/colab-wheels/public/simple/\n",
            "Collecting python-pptx\n",
            "  Downloading python-pptx-0.6.21.tar.gz (10.1 MB)\n",
            "\u001b[K     |████████████████████████████████| 10.1 MB 6.0 MB/s \n",
            "\u001b[?25hRequirement already satisfied: lxml>=3.1.0 in /usr/local/lib/python3.7/dist-packages (from python-pptx) (4.9.1)\n",
            "Requirement already satisfied: Pillow>=3.3.2 in /usr/local/lib/python3.7/dist-packages (from python-pptx) (7.1.2)\n",
            "Collecting XlsxWriter>=0.5.7\n",
            "  Downloading XlsxWriter-3.0.3-py3-none-any.whl (149 kB)\n",
            "\u001b[K     |████████████████████████████████| 149 kB 53.1 MB/s \n",
            "\u001b[?25hBuilding wheels for collected packages: python-pptx\n",
            "  Building wheel for python-pptx (setup.py) ... \u001b[?25l\u001b[?25hdone\n",
            "  Created wheel for python-pptx: filename=python_pptx-0.6.21-py3-none-any.whl size=470951 sha256=36c7915ad7e5d177804128b5c8580d04f8a11e0297f6ac192e2e2a7a39aa4e77\n",
            "  Stored in directory: /root/.cache/pip/wheels/a7/ab/f4/52560d0d4bd4055e9261c6df6e51c7b56c2b23cca3dee811a3\n",
            "Successfully built python-pptx\n",
            "Installing collected packages: XlsxWriter, python-pptx\n",
            "Successfully installed XlsxWriter-3.0.3 python-pptx-0.6.21\n"
          ]
        }
      ],
      "source": [
        "pip install python-pptx"
      ]
    },
    {
      "cell_type": "markdown",
      "source": [
        "# 파이썬으로 ppt에 슬라이드를 추가하고 문자열을 넣었다"
      ],
      "metadata": {
        "id": "nAzpchngwdZ8"
      }
    },
    {
      "cell_type": "code",
      "source": [
        "from pptx import Presentation\n",
        "\n",
        "prs=Presentation()\n",
        "\n",
        "slide_layout = prs.slide_layouts[0]\n",
        "slide=prs.slides.add_slide(slide_layout)\n",
        "\n",
        "title = slide.shapes.title\n",
        "subtitle = slide.placeholders[1]\n",
        "\n",
        "title.text = \"Hello, World\"\n",
        "subtitle.text = \"python-pptx was here!\"\n",
        "\n",
        "prs.save('test.ppt')"
      ],
      "metadata": {
        "id": "cIfW6Btym-PM"
      },
      "execution_count": 4,
      "outputs": []
    },
    {
      "cell_type": "markdown",
      "source": [
        "# 파이썬으로 도형을 만들어 보았다"
      ],
      "metadata": {
        "id": "PAAi9YH3wdS8"
      }
    },
    {
      "cell_type": "code",
      "source": [
        "from pptx import Presentation\n",
        "from pptx.enum.shapes import MSO_SHAPE\n",
        "from pptx.util import Inches\n",
        "from pptx.dml.color import RGBColor\n",
        "\n",
        "prs=Presentation()\n",
        "\n",
        "slide_layout = prs.slide_layouts[6]\n",
        "slide=prs.slides.add_slide(slide_layout)\n",
        "\n",
        "shapes = slide.shapes\n",
        "left = top = Inches(1)\n",
        "width = Inches(8)\n",
        "height = Inches(9)\n",
        "shape = shapes.add_shape(MSO_SHAPE.RECTANGLE,left,top,width,height)\n",
        "\n",
        "fill = shape.fill\n",
        "fill.solid()\n",
        "\n",
        "fill.fore_color.rgb = RGBColor(38, 50, 70)\n",
        "\n",
        "line = shape.line\n",
        "line.color.rgb = RGBColor(38, 50, 70)\n",
        "\n",
        "shadow = shape.shadow\n",
        "shadow.inherit = False\n",
        "\n",
        "prs.save('test.pptx')"
      ],
      "metadata": {
        "id": "uSo7hAB_okF0"
      },
      "execution_count": 6,
      "outputs": []
    },
    {
      "cell_type": "code",
      "source": [
        ""
      ],
      "metadata": {
        "id": "vAd8UoJuwNvD"
      },
      "execution_count": null,
      "outputs": []
    }
  ]
}
