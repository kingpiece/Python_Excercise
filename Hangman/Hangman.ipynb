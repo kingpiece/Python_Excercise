{
  "nbformat": 4,
  "nbformat_minor": 0,
  "metadata": {
    "colab": {
      "name": "Hangman",
      "provenance": []
    },
    "kernelspec": {
      "name": "python3",
      "display_name": "Python 3"
    },
    "language_info": {
      "name": "python"
    }
  },
  "cells": [
    {
      "cell_type": "code",
      "execution_count": 3,
      "metadata": {
        "colab": {
          "base_uri": "https://localhost:8080/"
        },
        "id": "Ad6ZyP_vdXM-",
        "outputId": "59a62d11-3ef3-4f60-c3b1-9a6b9ebd81f1"
      },
      "outputs": [
        {
          "output_type": "stream",
          "name": "stdout",
          "text": [
            "What's your name?:color\n",
            "Hi, color Time to play Hangman game!\n",
            "\n",
            "Start Loading....\n",
            "\n",
            "___\n",
            "\n",
            "Hint: family\n",
            "guess a charater.mom\n",
            "Opps! Wrong!\n",
            "You have 9 more guesses\n",
            "___\n",
            "\n",
            "Hint: family\n",
            "guess a charater.dad\n",
            "dad\n",
            "\n",
            "Congratulation! The guesses is correct!!\n"
          ]
        }
      ],
      "source": [
        "import time\n",
        "\n",
        "import csv\n",
        "\n",
        "import random\n",
        "name = input(\"What's your name?:\")\n",
        "print(\"Hi, \"+ name, \"Time to play Hangman game!\")\n",
        "print()\n",
        "time.sleep(1)\n",
        "print(\"Start Loading....\")\n",
        "print()\n",
        "time.sleep(0.5)\n",
        "words = []\n",
        "with open('/content/word_list.csv','r') as f:\n",
        "  reader = csv.reader(f)\n",
        "  next(reader)\n",
        "  for c in reader:\n",
        "    words.append(c)\n",
        "\n",
        "random.shuffle(words)\n",
        "q = random.choice(words)\n",
        "word = q[0].strip()\n",
        "guesses = ''\n",
        "turns = 10\n",
        "\n",
        "while turns> 0:\n",
        "  failed = 0\n",
        "  for char in word:\n",
        "    if char in guesses:\n",
        "      print(char, end='')\n",
        "    else:    \n",
        "      print(\"_\", end='')\n",
        "      failed += 1\n",
        "  if failed==0:\n",
        "    print()\n",
        "    print()\n",
        "    print('Congratulation! The guesses is correct!!')\n",
        "\n",
        "    break\n",
        "  print()\n",
        "\n",
        "  print()\n",
        "  print('Hint: {}'.format(q[1].strip()))\n",
        "  guess = input(\"guess a charater.\")\n",
        "  guesses += guess\n",
        "  if guess not in word:\n",
        "    turns-= 1\n",
        "    print(\"Opps! Wrong!\")\n",
        "    print(\"You have\", turns, 'more guesses')\n",
        "\n",
        "    if turns == 0:\n",
        "      print(\"You Hangman game failed . Bye~\")"
      ]
    },
    {
      "cell_type": "code",
      "source": [
        ""
      ],
      "metadata": {
        "id": "y5plPEmGhzy6"
      },
      "execution_count": null,
      "outputs": []
    }
  ]
}
